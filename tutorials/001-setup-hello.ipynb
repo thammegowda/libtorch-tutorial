{
 "cells": [
  {
   "cell_type": "markdown",
   "id": "29c0ee05-6df2-42e5-8866-1457a0b139ec",
   "metadata": {},
   "source": [
    "# Learn libTorch \n",
    "Learn libTorch C++ API in an interactive notebook environment\n",
    "\n",
    "This notebook should be run in C++ kernel e.g. https://github.com/jupyter-xeus/xeus-cling \n",
    "\n",
    "\n",
    "See README at the top of repository for setup."
   ]
  },
  {
   "cell_type": "markdown",
   "id": "8833e70d-3a28-427d-b591-9a1c00b1ea90",
   "metadata": {},
   "source": [
    "## C++ Hello World \n",
    "_from jupyter notebook cell!_"
   ]
  },
  {
   "cell_type": "code",
   "execution_count": 1,
   "id": "6cf0dd29-ae02-46f0-8542-f132a3af2654",
   "metadata": {},
   "outputs": [
    {
     "name": "stdout",
     "output_type": "stream",
     "text": [
      "Hello World\n"
     ]
    }
   ],
   "source": [
    "#include<iostream>\n",
    "#include<string>\n",
    "\n",
    "//using namespace std;\n",
    "std::cout << \"Hello World\\n\";"
   ]
  },
  {
   "cell_type": "code",
   "execution_count": 2,
   "id": "172d5aca-342f-4939-b54b-3bf84592b959",
   "metadata": {},
   "outputs": [
    {
     "name": "stderr",
     "output_type": "stream",
     "text": [
      "\u001b[1minput_line_9:1:10: \u001b[0m\u001b[0;1;31mfatal error: \u001b[0m\u001b[1m'torch/torch.h' file not found\u001b[0m\n",
      "#include <torch/torch.h>\n",
      "\u001b[0;1;32m         ^~~~~~~~~~~~~~~\n",
      "\u001b[0m"
     ]
    },
    {
     "ename": "Interpreter Error",
     "evalue": "",
     "output_type": "error",
     "traceback": [
      "Interpreter Error: "
     ]
    }
   ],
   "source": [
    "#include <torch/torch.h>\n",
    "\n",
    "// cant import torch, yet"
   ]
  },
  {
   "cell_type": "code",
   "execution_count": 1,
   "id": "77e6ae7b-21c7-4d0d-8ff1-650560f5f58c",
   "metadata": {},
   "outputs": [
    {
     "name": "stdout",
     "output_type": "stream",
     "text": [
      "-rwxr-xr-x 1 tg tg    965864 Aug 27 20:47 ../libs/libtorch/lib/libtorchbind_test.so\n",
      "-rwxr-xr-x 1 tg tg 495076864 Oct  3 04:58 ../libs/libtorch/lib/libtorch_cpu.so\n",
      "-rwxr-xr-x 1 tg tg      8737 Aug 27 20:48 ../libs/libtorch/lib/libtorch_global_deps.so\n",
      "-rwxr-xr-x 1 tg tg  26516360 Aug 27 20:48 ../libs/libtorch/lib/libtorch_python.so\n",
      "-rwxr-xr-x 1 tg tg      7584 Aug 27 20:48 ../libs/libtorch/lib/libtorch.so\n",
      "\n",
      "../libs/libtorch/include/torch/csrc/api/include/:\n",
      "total 4\n",
      "drwxr-xr-x 7 tg tg 4096 Aug 27 20:43 torch\n"
     ]
    }
   ],
   "source": [
    "!ls -l ../libs/libtorch/include/torch/csrc/api/include/ ../libs/libtorch/lib/libtorch*.so\n",
    "// headers and precompiled libs are here"
   ]
  },
  {
   "cell_type": "code",
   "execution_count": 2,
   "id": "fff2680f-8a2b-43a8-a0cb-a33eeba9e4e3",
   "metadata": {},
   "outputs": [
    {
     "name": "stdout",
     "output_type": "stream",
     "text": [
      "Added paths\n",
      "Loaded libTorch.so\n",
      "Creating a sample torch::Tensor 0.1298  0.7039  0.1541\n",
      " 0.3854  0.5424  0.7988\n",
      "[ CPUFloatType{2,3} ]\n"
     ]
    }
   ],
   "source": [
    "#include<iostream>\n",
    "#include<string>\n",
    "\n",
    "//using namespace std;    //NOTE: dont expose std namespace\n",
    "\n",
    "// add headers\n",
    "#pragma cling add_include_path(\"../libs/libtorch/include/torch/csrc/api/include\")\n",
    "#pragma cling add_include_path(\"../libs/libtorch/include/\")\n",
    "// add precompiled libtorch*.so files\n",
    "#pragma cling add_library_path(\"../libs/libtorch/lib/\")\n",
    "std::cout << \"Added paths\\n\";\n",
    "\n",
    "// load libtorch   -- this may cause LLVM out of memory\n",
    "// this happened to me when debug symbols were included in libs\n",
    "// fix: redownload libs without debug symbols\n",
    "//  edit setup.sh --> set DEBUG=0 \n",
    "//  rm -rf libs/libtorch* && bash libs/setup.sh\n",
    "//   \n",
    "\n",
    "#pragma cling load(\"libtorch.so\")\n",
    "std::cout << \"Loaded libTorch.so\\n\";\n",
    "\n",
    "//// --- setup is ready -- time to import and test\n",
    "\n",
    "#include <torch/torch.h>\n",
    "\n",
    "// if you get an error in this cell, try again after reloading the kernel \n",
    "// sometimes it take two attempts and I am not sure why\n",
    "\n",
    "std::cout << \"Creating a sample torch::Tensor\";\n",
    "torch::Tensor tensor = torch::rand({2, 3});\n",
    "std::cout << tensor << std::endl;\n"
   ]
  },
  {
   "cell_type": "code",
   "execution_count": 6,
   "id": "57cad481-5cd8-40f4-98c4-c557213effcd",
   "metadata": {},
   "outputs": [
    {
     "name": "stdout",
     "output_type": "stream",
     "text": [
      " 1  0  0  0  0  0\n",
      " 0  1  0  0  0  0\n",
      " 0  0  1  0  0  0\n",
      " 0  0  0  1  0  0\n",
      " 0  0  0  0  1  0\n",
      " 0  0  0  0  0  1\n",
      "[ CPUFloatType{6,6} ]\n"
     ]
    }
   ],
   "source": [
    "torch::Tensor tensor = torch::eye(6);\n",
    "std::cout << tensor << std::endl;"
   ]
  },
  {
   "cell_type": "code",
   "execution_count": null,
   "id": "7354756e-5301-420c-95fa-835a4bc2fefd",
   "metadata": {},
   "outputs": [],
   "source": []
  }
 ],
 "metadata": {
  "kernelspec": {
   "display_name": "C++17",
   "language": "C++17",
   "name": "xcpp17"
  },
  "language_info": {
   "codemirror_mode": "text/x-c++src",
   "file_extension": ".cpp",
   "mimetype": "text/x-c++src",
   "name": "c++",
   "version": "17"
  }
 },
 "nbformat": 4,
 "nbformat_minor": 5
}
